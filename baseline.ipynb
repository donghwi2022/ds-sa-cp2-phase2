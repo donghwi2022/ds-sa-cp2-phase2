{
  "nbformat": 4,
  "nbformat_minor": 0,
  "metadata": {
    "colab": {
      "provenance": [],
      "authorship_tag": "ABX9TyOJKF4ZPTNKEfkJH6PrzUdG"
    },
    "kernelspec": {
      "name": "python3",
      "display_name": "Python 3"
    },
    "language_info": {
      "name": "python"
    }
  },
  "cells": [
    {
      "cell_type": "markdown",
      "source": [
        "# 1. 필요 라이브러리 import 및 사용 데이터 load"
      ],
      "metadata": {
        "id": "FsEicLzrVZJm"
      }
    },
    {
      "cell_type": "code",
      "execution_count": 1,
      "metadata": {
        "id": "3DDyQONVVONW"
      },
      "outputs": [],
      "source": [
        "import pandas as pd\n",
        "from sklearn.model_selection import train_test_split\n",
        "\n",
        "# 모든 column을 확인하도록 설정\n",
        "pd.set_option('display.max_columns', None)"
      ]
    },
    {
      "cell_type": "code",
      "source": [
        "from google.colab import drive\n",
        "drive.mount('/content/drive')"
      ],
      "metadata": {
        "colab": {
          "base_uri": "https://localhost:8080/"
        },
        "id": "TNq5XQr_V14y",
        "outputId": "8dd2b48c-a30a-4b78-819f-ddb10b6eb7f0"
      },
      "execution_count": 2,
      "outputs": [
        {
          "output_type": "stream",
          "name": "stdout",
          "text": [
            "Mounted at /content/drive\n"
          ]
        }
      ]
    },
    {
      "cell_type": "code",
      "source": [
        "data = pd.read_parquet(\"/content/drive/MyDrive/cp2_phase2_data/fashion_logs.parquet\")\n",
        "data.info()"
      ],
      "metadata": {
        "colab": {
          "base_uri": "https://localhost:8080/"
        },
        "id": "AOoCZo2oWICw",
        "outputId": "191d38c0-ea29-469c-ef49-dd46f95d6cc4"
      },
      "execution_count": 3,
      "outputs": [
        {
          "output_type": "stream",
          "name": "stdout",
          "text": [
            "<class 'pandas.core.frame.DataFrame'>\n",
            "Int64Index: 1201009 entries, 0 to 1254584\n",
            "Data columns (total 23 columns):\n",
            " #   Column              Non-Null Count    Dtype   \n",
            "---  ------              --------------    -----   \n",
            " 0   created_at          1201009 non-null  category\n",
            " 1   session_id          1201009 non-null  int32   \n",
            " 2   payment_method      1201009 non-null  category\n",
            " 3   promo_amount        1201009 non-null  int32   \n",
            " 4   promo_code          1201009 non-null  category\n",
            " 5   shipment_fee        1201009 non-null  int32   \n",
            " 6   total_amount        1201009 non-null  int32   \n",
            " 7   product_id          1201009 non-null  int32   \n",
            " 8   productDisplayName  1201009 non-null  category\n",
            " 9   quantity            1201009 non-null  int32   \n",
            " 10  item_price          1201009 non-null  int32   \n",
            " 11  product_gender      1201009 non-null  category\n",
            " 12  baseColor           1201009 non-null  category\n",
            " 13  season              1201009 non-null  category\n",
            " 14  year                1201009 non-null  int32   \n",
            " 15  usage               1201009 non-null  category\n",
            " 16  Category            1201009 non-null  category\n",
            " 17  customer_id         1201009 non-null  int32   \n",
            " 18  customer_gender     1201009 non-null  category\n",
            " 19  birthdate           1201009 non-null  category\n",
            " 20  device_type         1201009 non-null  category\n",
            " 21  home_location       1201009 non-null  category\n",
            " 22  first_join_date     1201009 non-null  category\n",
            "dtypes: category(14), int32(9)\n",
            "memory usage: 114.6 MB\n"
          ]
        }
      ]
    },
    {
      "cell_type": "code",
      "source": [
        "data.head()"
      ],
      "metadata": {
        "colab": {
          "base_uri": "https://localhost:8080/",
          "height": 461
        },
        "id": "Fq1vHJZoWT2M",
        "outputId": "995875e3-d12b-43a7-876d-763761642f97"
      },
      "execution_count": 4,
      "outputs": [
        {
          "output_type": "execute_result",
          "data": {
            "text/plain": [
              "            created_at  session_id payment_method  promo_amount   promo_code  \\\n",
              "0  2018-07-29T15:22:01      194913     Debit Card          1415  WEEKENDSERU   \n",
              "1  2018-07-30T12:40:22      155874    Credit Card             0           No   \n",
              "2  2018-09-15T11:51:17      489413            OVO             0           No   \n",
              "3  2018-11-01T11:23:48      627839    Credit Card             0           No   \n",
              "4  2018-12-18T11:20:30      742846    Credit Card             0           No   \n",
              "\n",
              "   shipment_fee  total_amount  product_id  \\\n",
              "0         10000        199832       54728   \n",
              "1         10000        155526       16193   \n",
              "2         10000        550696       53686   \n",
              "3             0        271012       20228   \n",
              "4             0        198753       55220   \n",
              "\n",
              "                                  productDisplayName  quantity  item_price  \\\n",
              "0                               Vans Men Black Shoes         1      191247   \n",
              "1                Puma Men Knitted Vest Green Sweater         1      145526   \n",
              "2                Kiara Women Purple & Yellow Handbag         4      135174   \n",
              "3                   Wrangler Women Cable Red Sweater         1      271012   \n",
              "4  Lakme Absolute Forever Silk Chestnut Lip Liner 03         1      198753   \n",
              "\n",
              "  product_gender baseColor  season  year   usage  \\\n",
              "0            Men     Black  Summer  2012  Casual   \n",
              "1            Men     Green    Fall  2011  Casual   \n",
              "2          Women    Purple  Summer  2012  Casual   \n",
              "3          Women       Red    Fall  2011  Casual   \n",
              "4          Women     Brown  Spring  2017  Casual   \n",
              "\n",
              "                       Category  customer_id customer_gender   birthdate  \\\n",
              "0   Footwear Shoes Casual Shoes         5868               F  2000-08-20   \n",
              "1      Apparel Topwear Sweaters         4774               F  1996-03-15   \n",
              "2     Accessories Bags Handbags         4774               F  1996-03-15   \n",
              "3      Apparel Topwear Sweaters         4774               F  1996-03-15   \n",
              "4  Personal Care Lips Lip Liner         4774               F  1996-03-15   \n",
              "\n",
              "  device_type     home_location first_join_date  \n",
              "0     Android      Jakarta Raya      2018-07-28  \n",
              "1     Android  Sulawesi Selatan      2018-07-28  \n",
              "2     Android  Sulawesi Selatan      2018-07-28  \n",
              "3     Android  Sulawesi Selatan      2018-07-28  \n",
              "4     Android  Sulawesi Selatan      2018-07-28  "
            ],
            "text/html": [
              "\n",
              "  <div id=\"df-7da3052c-b4d8-49cd-a413-4952d557dac8\">\n",
              "    <div class=\"colab-df-container\">\n",
              "      <div>\n",
              "<style scoped>\n",
              "    .dataframe tbody tr th:only-of-type {\n",
              "        vertical-align: middle;\n",
              "    }\n",
              "\n",
              "    .dataframe tbody tr th {\n",
              "        vertical-align: top;\n",
              "    }\n",
              "\n",
              "    .dataframe thead th {\n",
              "        text-align: right;\n",
              "    }\n",
              "</style>\n",
              "<table border=\"1\" class=\"dataframe\">\n",
              "  <thead>\n",
              "    <tr style=\"text-align: right;\">\n",
              "      <th></th>\n",
              "      <th>created_at</th>\n",
              "      <th>session_id</th>\n",
              "      <th>payment_method</th>\n",
              "      <th>promo_amount</th>\n",
              "      <th>promo_code</th>\n",
              "      <th>shipment_fee</th>\n",
              "      <th>total_amount</th>\n",
              "      <th>product_id</th>\n",
              "      <th>productDisplayName</th>\n",
              "      <th>quantity</th>\n",
              "      <th>item_price</th>\n",
              "      <th>product_gender</th>\n",
              "      <th>baseColor</th>\n",
              "      <th>season</th>\n",
              "      <th>year</th>\n",
              "      <th>usage</th>\n",
              "      <th>Category</th>\n",
              "      <th>customer_id</th>\n",
              "      <th>customer_gender</th>\n",
              "      <th>birthdate</th>\n",
              "      <th>device_type</th>\n",
              "      <th>home_location</th>\n",
              "      <th>first_join_date</th>\n",
              "    </tr>\n",
              "  </thead>\n",
              "  <tbody>\n",
              "    <tr>\n",
              "      <th>0</th>\n",
              "      <td>2018-07-29T15:22:01</td>\n",
              "      <td>194913</td>\n",
              "      <td>Debit Card</td>\n",
              "      <td>1415</td>\n",
              "      <td>WEEKENDSERU</td>\n",
              "      <td>10000</td>\n",
              "      <td>199832</td>\n",
              "      <td>54728</td>\n",
              "      <td>Vans Men Black Shoes</td>\n",
              "      <td>1</td>\n",
              "      <td>191247</td>\n",
              "      <td>Men</td>\n",
              "      <td>Black</td>\n",
              "      <td>Summer</td>\n",
              "      <td>2012</td>\n",
              "      <td>Casual</td>\n",
              "      <td>Footwear Shoes Casual Shoes</td>\n",
              "      <td>5868</td>\n",
              "      <td>F</td>\n",
              "      <td>2000-08-20</td>\n",
              "      <td>Android</td>\n",
              "      <td>Jakarta Raya</td>\n",
              "      <td>2018-07-28</td>\n",
              "    </tr>\n",
              "    <tr>\n",
              "      <th>1</th>\n",
              "      <td>2018-07-30T12:40:22</td>\n",
              "      <td>155874</td>\n",
              "      <td>Credit Card</td>\n",
              "      <td>0</td>\n",
              "      <td>No</td>\n",
              "      <td>10000</td>\n",
              "      <td>155526</td>\n",
              "      <td>16193</td>\n",
              "      <td>Puma Men Knitted Vest Green Sweater</td>\n",
              "      <td>1</td>\n",
              "      <td>145526</td>\n",
              "      <td>Men</td>\n",
              "      <td>Green</td>\n",
              "      <td>Fall</td>\n",
              "      <td>2011</td>\n",
              "      <td>Casual</td>\n",
              "      <td>Apparel Topwear Sweaters</td>\n",
              "      <td>4774</td>\n",
              "      <td>F</td>\n",
              "      <td>1996-03-15</td>\n",
              "      <td>Android</td>\n",
              "      <td>Sulawesi Selatan</td>\n",
              "      <td>2018-07-28</td>\n",
              "    </tr>\n",
              "    <tr>\n",
              "      <th>2</th>\n",
              "      <td>2018-09-15T11:51:17</td>\n",
              "      <td>489413</td>\n",
              "      <td>OVO</td>\n",
              "      <td>0</td>\n",
              "      <td>No</td>\n",
              "      <td>10000</td>\n",
              "      <td>550696</td>\n",
              "      <td>53686</td>\n",
              "      <td>Kiara Women Purple &amp; Yellow Handbag</td>\n",
              "      <td>4</td>\n",
              "      <td>135174</td>\n",
              "      <td>Women</td>\n",
              "      <td>Purple</td>\n",
              "      <td>Summer</td>\n",
              "      <td>2012</td>\n",
              "      <td>Casual</td>\n",
              "      <td>Accessories Bags Handbags</td>\n",
              "      <td>4774</td>\n",
              "      <td>F</td>\n",
              "      <td>1996-03-15</td>\n",
              "      <td>Android</td>\n",
              "      <td>Sulawesi Selatan</td>\n",
              "      <td>2018-07-28</td>\n",
              "    </tr>\n",
              "    <tr>\n",
              "      <th>3</th>\n",
              "      <td>2018-11-01T11:23:48</td>\n",
              "      <td>627839</td>\n",
              "      <td>Credit Card</td>\n",
              "      <td>0</td>\n",
              "      <td>No</td>\n",
              "      <td>0</td>\n",
              "      <td>271012</td>\n",
              "      <td>20228</td>\n",
              "      <td>Wrangler Women Cable Red Sweater</td>\n",
              "      <td>1</td>\n",
              "      <td>271012</td>\n",
              "      <td>Women</td>\n",
              "      <td>Red</td>\n",
              "      <td>Fall</td>\n",
              "      <td>2011</td>\n",
              "      <td>Casual</td>\n",
              "      <td>Apparel Topwear Sweaters</td>\n",
              "      <td>4774</td>\n",
              "      <td>F</td>\n",
              "      <td>1996-03-15</td>\n",
              "      <td>Android</td>\n",
              "      <td>Sulawesi Selatan</td>\n",
              "      <td>2018-07-28</td>\n",
              "    </tr>\n",
              "    <tr>\n",
              "      <th>4</th>\n",
              "      <td>2018-12-18T11:20:30</td>\n",
              "      <td>742846</td>\n",
              "      <td>Credit Card</td>\n",
              "      <td>0</td>\n",
              "      <td>No</td>\n",
              "      <td>0</td>\n",
              "      <td>198753</td>\n",
              "      <td>55220</td>\n",
              "      <td>Lakme Absolute Forever Silk Chestnut Lip Liner 03</td>\n",
              "      <td>1</td>\n",
              "      <td>198753</td>\n",
              "      <td>Women</td>\n",
              "      <td>Brown</td>\n",
              "      <td>Spring</td>\n",
              "      <td>2017</td>\n",
              "      <td>Casual</td>\n",
              "      <td>Personal Care Lips Lip Liner</td>\n",
              "      <td>4774</td>\n",
              "      <td>F</td>\n",
              "      <td>1996-03-15</td>\n",
              "      <td>Android</td>\n",
              "      <td>Sulawesi Selatan</td>\n",
              "      <td>2018-07-28</td>\n",
              "    </tr>\n",
              "  </tbody>\n",
              "</table>\n",
              "</div>\n",
              "      <button class=\"colab-df-convert\" onclick=\"convertToInteractive('df-7da3052c-b4d8-49cd-a413-4952d557dac8')\"\n",
              "              title=\"Convert this dataframe to an interactive table.\"\n",
              "              style=\"display:none;\">\n",
              "        \n",
              "  <svg xmlns=\"http://www.w3.org/2000/svg\" height=\"24px\"viewBox=\"0 0 24 24\"\n",
              "       width=\"24px\">\n",
              "    <path d=\"M0 0h24v24H0V0z\" fill=\"none\"/>\n",
              "    <path d=\"M18.56 5.44l.94 2.06.94-2.06 2.06-.94-2.06-.94-.94-2.06-.94 2.06-2.06.94zm-11 1L8.5 8.5l.94-2.06 2.06-.94-2.06-.94L8.5 2.5l-.94 2.06-2.06.94zm10 10l.94 2.06.94-2.06 2.06-.94-2.06-.94-.94-2.06-.94 2.06-2.06.94z\"/><path d=\"M17.41 7.96l-1.37-1.37c-.4-.4-.92-.59-1.43-.59-.52 0-1.04.2-1.43.59L10.3 9.45l-7.72 7.72c-.78.78-.78 2.05 0 2.83L4 21.41c.39.39.9.59 1.41.59.51 0 1.02-.2 1.41-.59l7.78-7.78 2.81-2.81c.8-.78.8-2.07 0-2.86zM5.41 20L4 18.59l7.72-7.72 1.47 1.35L5.41 20z\"/>\n",
              "  </svg>\n",
              "      </button>\n",
              "      \n",
              "  <style>\n",
              "    .colab-df-container {\n",
              "      display:flex;\n",
              "      flex-wrap:wrap;\n",
              "      gap: 12px;\n",
              "    }\n",
              "\n",
              "    .colab-df-convert {\n",
              "      background-color: #E8F0FE;\n",
              "      border: none;\n",
              "      border-radius: 50%;\n",
              "      cursor: pointer;\n",
              "      display: none;\n",
              "      fill: #1967D2;\n",
              "      height: 32px;\n",
              "      padding: 0 0 0 0;\n",
              "      width: 32px;\n",
              "    }\n",
              "\n",
              "    .colab-df-convert:hover {\n",
              "      background-color: #E2EBFA;\n",
              "      box-shadow: 0px 1px 2px rgba(60, 64, 67, 0.3), 0px 1px 3px 1px rgba(60, 64, 67, 0.15);\n",
              "      fill: #174EA6;\n",
              "    }\n",
              "\n",
              "    [theme=dark] .colab-df-convert {\n",
              "      background-color: #3B4455;\n",
              "      fill: #D2E3FC;\n",
              "    }\n",
              "\n",
              "    [theme=dark] .colab-df-convert:hover {\n",
              "      background-color: #434B5C;\n",
              "      box-shadow: 0px 1px 3px 1px rgba(0, 0, 0, 0.15);\n",
              "      filter: drop-shadow(0px 1px 2px rgba(0, 0, 0, 0.3));\n",
              "      fill: #FFFFFF;\n",
              "    }\n",
              "  </style>\n",
              "\n",
              "      <script>\n",
              "        const buttonEl =\n",
              "          document.querySelector('#df-7da3052c-b4d8-49cd-a413-4952d557dac8 button.colab-df-convert');\n",
              "        buttonEl.style.display =\n",
              "          google.colab.kernel.accessAllowed ? 'block' : 'none';\n",
              "\n",
              "        async function convertToInteractive(key) {\n",
              "          const element = document.querySelector('#df-7da3052c-b4d8-49cd-a413-4952d557dac8');\n",
              "          const dataTable =\n",
              "            await google.colab.kernel.invokeFunction('convertToInteractive',\n",
              "                                                     [key], {});\n",
              "          if (!dataTable) return;\n",
              "\n",
              "          const docLinkHtml = 'Like what you see? Visit the ' +\n",
              "            '<a target=\"_blank\" href=https://colab.research.google.com/notebooks/data_table.ipynb>data table notebook</a>'\n",
              "            + ' to learn more about interactive tables.';\n",
              "          element.innerHTML = '';\n",
              "          dataTable['output_type'] = 'display_data';\n",
              "          await google.colab.output.renderOutput(dataTable, element);\n",
              "          const docLink = document.createElement('div');\n",
              "          docLink.innerHTML = docLinkHtml;\n",
              "          element.appendChild(docLink);\n",
              "        }\n",
              "      </script>\n",
              "    </div>\n",
              "  </div>\n",
              "  "
            ]
          },
          "metadata": {},
          "execution_count": 4
        }
      ]
    },
    {
      "cell_type": "markdown",
      "source": [
        "# 2. 베이스라인 모델 구축\n",
        "- 가장 인기있는 상위 10개 추천"
      ],
      "metadata": {
        "id": "DJSUONT4VfZu"
      }
    },
    {
      "cell_type": "markdown",
      "source": [
        "## 1. 학습 데이터와 테스트 데이터 분리"
      ],
      "metadata": {
        "id": "epeNA7B1fui3"
      }
    },
    {
      "cell_type": "code",
      "source": [
        "train_data, test_data = train_test_split(data, test_size=0.2, random_state=2)"
      ],
      "metadata": {
        "id": "Z7Ltufipf0yS"
      },
      "execution_count": 5,
      "outputs": []
    },
    {
      "cell_type": "code",
      "source": [
        "print(\"학습 데이터의 수 :\", train_data.shape[0])\n",
        "print(\"테스트 데이터의 수 :\", test_data.shape[0])"
      ],
      "metadata": {
        "colab": {
          "base_uri": "https://localhost:8080/"
        },
        "id": "DVO5197-gNPM",
        "outputId": "e5981915-175f-4c85-eee2-6f1171fe5d36"
      },
      "execution_count": 6,
      "outputs": [
        {
          "output_type": "stream",
          "name": "stdout",
          "text": [
            "학습 데이터의 수 : 960807\n",
            "테스트 데이터의 수 : 240202\n"
          ]
        }
      ]
    },
    {
      "cell_type": "markdown",
      "source": [
        "## 2. 빈도가 높은 상위 아이템 10개 추출"
      ],
      "metadata": {
        "id": "mE7g16khgms2"
      }
    },
    {
      "cell_type": "code",
      "source": [
        "# 빈도가 높은 상위 20개 아이템 추출\n",
        "popular_item = train_data['product_id'].value_counts()\n",
        "top_20 = popular_item.head(20)\n",
        "top_20"
      ],
      "metadata": {
        "colab": {
          "base_uri": "https://localhost:8080/"
        },
        "id": "GsGonnhpXONL",
        "outputId": "e353fc99-9657-40f0-81d5-ccc92d310ea7"
      },
      "execution_count": 9,
      "outputs": [
        {
          "output_type": "execute_result",
          "data": {
            "text/plain": [
              "3933     44\n",
              "40615    44\n",
              "35425    43\n",
              "37848    43\n",
              "12787    42\n",
              "55022    42\n",
              "26988    42\n",
              "54932    42\n",
              "19558    40\n",
              "40020    40\n",
              "12836    40\n",
              "24135    39\n",
              "4391     39\n",
              "21753    39\n",
              "19223    39\n",
              "5675     39\n",
              "5501     39\n",
              "58871    39\n",
              "2116     38\n",
              "56040    38\n",
              "Name: product_id, dtype: int64"
            ]
          },
          "metadata": {},
          "execution_count": 9
        }
      ]
    },
    {
      "cell_type": "code",
      "source": [
        "# 데이터 프레임으로 변경\n",
        "recomm_data = pd.DataFrame({'product_id' : top_20.index ,\n",
        "              'product_amount' : top_20.values})\n",
        "recomm_data"
      ],
      "metadata": {
        "colab": {
          "base_uri": "https://localhost:8080/",
          "height": 676
        },
        "id": "U1y-eJPxdFgi",
        "outputId": "620af46c-d47c-4d2e-c40a-1a2130ef3287"
      },
      "execution_count": 10,
      "outputs": [
        {
          "output_type": "execute_result",
          "data": {
            "text/plain": [
              "    product_id  product_amount\n",
              "0         3933              44\n",
              "1        40615              44\n",
              "2        35425              43\n",
              "3        37848              43\n",
              "4        12787              42\n",
              "5        55022              42\n",
              "6        26988              42\n",
              "7        54932              42\n",
              "8        19558              40\n",
              "9        40020              40\n",
              "10       12836              40\n",
              "11       24135              39\n",
              "12        4391              39\n",
              "13       21753              39\n",
              "14       19223              39\n",
              "15        5675              39\n",
              "16        5501              39\n",
              "17       58871              39\n",
              "18        2116              38\n",
              "19       56040              38"
            ],
            "text/html": [
              "\n",
              "  <div id=\"df-576e37ad-1b30-464f-8d5a-86eda29f5183\">\n",
              "    <div class=\"colab-df-container\">\n",
              "      <div>\n",
              "<style scoped>\n",
              "    .dataframe tbody tr th:only-of-type {\n",
              "        vertical-align: middle;\n",
              "    }\n",
              "\n",
              "    .dataframe tbody tr th {\n",
              "        vertical-align: top;\n",
              "    }\n",
              "\n",
              "    .dataframe thead th {\n",
              "        text-align: right;\n",
              "    }\n",
              "</style>\n",
              "<table border=\"1\" class=\"dataframe\">\n",
              "  <thead>\n",
              "    <tr style=\"text-align: right;\">\n",
              "      <th></th>\n",
              "      <th>product_id</th>\n",
              "      <th>product_amount</th>\n",
              "    </tr>\n",
              "  </thead>\n",
              "  <tbody>\n",
              "    <tr>\n",
              "      <th>0</th>\n",
              "      <td>3933</td>\n",
              "      <td>44</td>\n",
              "    </tr>\n",
              "    <tr>\n",
              "      <th>1</th>\n",
              "      <td>40615</td>\n",
              "      <td>44</td>\n",
              "    </tr>\n",
              "    <tr>\n",
              "      <th>2</th>\n",
              "      <td>35425</td>\n",
              "      <td>43</td>\n",
              "    </tr>\n",
              "    <tr>\n",
              "      <th>3</th>\n",
              "      <td>37848</td>\n",
              "      <td>43</td>\n",
              "    </tr>\n",
              "    <tr>\n",
              "      <th>4</th>\n",
              "      <td>12787</td>\n",
              "      <td>42</td>\n",
              "    </tr>\n",
              "    <tr>\n",
              "      <th>5</th>\n",
              "      <td>55022</td>\n",
              "      <td>42</td>\n",
              "    </tr>\n",
              "    <tr>\n",
              "      <th>6</th>\n",
              "      <td>26988</td>\n",
              "      <td>42</td>\n",
              "    </tr>\n",
              "    <tr>\n",
              "      <th>7</th>\n",
              "      <td>54932</td>\n",
              "      <td>42</td>\n",
              "    </tr>\n",
              "    <tr>\n",
              "      <th>8</th>\n",
              "      <td>19558</td>\n",
              "      <td>40</td>\n",
              "    </tr>\n",
              "    <tr>\n",
              "      <th>9</th>\n",
              "      <td>40020</td>\n",
              "      <td>40</td>\n",
              "    </tr>\n",
              "    <tr>\n",
              "      <th>10</th>\n",
              "      <td>12836</td>\n",
              "      <td>40</td>\n",
              "    </tr>\n",
              "    <tr>\n",
              "      <th>11</th>\n",
              "      <td>24135</td>\n",
              "      <td>39</td>\n",
              "    </tr>\n",
              "    <tr>\n",
              "      <th>12</th>\n",
              "      <td>4391</td>\n",
              "      <td>39</td>\n",
              "    </tr>\n",
              "    <tr>\n",
              "      <th>13</th>\n",
              "      <td>21753</td>\n",
              "      <td>39</td>\n",
              "    </tr>\n",
              "    <tr>\n",
              "      <th>14</th>\n",
              "      <td>19223</td>\n",
              "      <td>39</td>\n",
              "    </tr>\n",
              "    <tr>\n",
              "      <th>15</th>\n",
              "      <td>5675</td>\n",
              "      <td>39</td>\n",
              "    </tr>\n",
              "    <tr>\n",
              "      <th>16</th>\n",
              "      <td>5501</td>\n",
              "      <td>39</td>\n",
              "    </tr>\n",
              "    <tr>\n",
              "      <th>17</th>\n",
              "      <td>58871</td>\n",
              "      <td>39</td>\n",
              "    </tr>\n",
              "    <tr>\n",
              "      <th>18</th>\n",
              "      <td>2116</td>\n",
              "      <td>38</td>\n",
              "    </tr>\n",
              "    <tr>\n",
              "      <th>19</th>\n",
              "      <td>56040</td>\n",
              "      <td>38</td>\n",
              "    </tr>\n",
              "  </tbody>\n",
              "</table>\n",
              "</div>\n",
              "      <button class=\"colab-df-convert\" onclick=\"convertToInteractive('df-576e37ad-1b30-464f-8d5a-86eda29f5183')\"\n",
              "              title=\"Convert this dataframe to an interactive table.\"\n",
              "              style=\"display:none;\">\n",
              "        \n",
              "  <svg xmlns=\"http://www.w3.org/2000/svg\" height=\"24px\"viewBox=\"0 0 24 24\"\n",
              "       width=\"24px\">\n",
              "    <path d=\"M0 0h24v24H0V0z\" fill=\"none\"/>\n",
              "    <path d=\"M18.56 5.44l.94 2.06.94-2.06 2.06-.94-2.06-.94-.94-2.06-.94 2.06-2.06.94zm-11 1L8.5 8.5l.94-2.06 2.06-.94-2.06-.94L8.5 2.5l-.94 2.06-2.06.94zm10 10l.94 2.06.94-2.06 2.06-.94-2.06-.94-.94-2.06-.94 2.06-2.06.94z\"/><path d=\"M17.41 7.96l-1.37-1.37c-.4-.4-.92-.59-1.43-.59-.52 0-1.04.2-1.43.59L10.3 9.45l-7.72 7.72c-.78.78-.78 2.05 0 2.83L4 21.41c.39.39.9.59 1.41.59.51 0 1.02-.2 1.41-.59l7.78-7.78 2.81-2.81c.8-.78.8-2.07 0-2.86zM5.41 20L4 18.59l7.72-7.72 1.47 1.35L5.41 20z\"/>\n",
              "  </svg>\n",
              "      </button>\n",
              "      \n",
              "  <style>\n",
              "    .colab-df-container {\n",
              "      display:flex;\n",
              "      flex-wrap:wrap;\n",
              "      gap: 12px;\n",
              "    }\n",
              "\n",
              "    .colab-df-convert {\n",
              "      background-color: #E8F0FE;\n",
              "      border: none;\n",
              "      border-radius: 50%;\n",
              "      cursor: pointer;\n",
              "      display: none;\n",
              "      fill: #1967D2;\n",
              "      height: 32px;\n",
              "      padding: 0 0 0 0;\n",
              "      width: 32px;\n",
              "    }\n",
              "\n",
              "    .colab-df-convert:hover {\n",
              "      background-color: #E2EBFA;\n",
              "      box-shadow: 0px 1px 2px rgba(60, 64, 67, 0.3), 0px 1px 3px 1px rgba(60, 64, 67, 0.15);\n",
              "      fill: #174EA6;\n",
              "    }\n",
              "\n",
              "    [theme=dark] .colab-df-convert {\n",
              "      background-color: #3B4455;\n",
              "      fill: #D2E3FC;\n",
              "    }\n",
              "\n",
              "    [theme=dark] .colab-df-convert:hover {\n",
              "      background-color: #434B5C;\n",
              "      box-shadow: 0px 1px 3px 1px rgba(0, 0, 0, 0.15);\n",
              "      filter: drop-shadow(0px 1px 2px rgba(0, 0, 0, 0.3));\n",
              "      fill: #FFFFFF;\n",
              "    }\n",
              "  </style>\n",
              "\n",
              "      <script>\n",
              "        const buttonEl =\n",
              "          document.querySelector('#df-576e37ad-1b30-464f-8d5a-86eda29f5183 button.colab-df-convert');\n",
              "        buttonEl.style.display =\n",
              "          google.colab.kernel.accessAllowed ? 'block' : 'none';\n",
              "\n",
              "        async function convertToInteractive(key) {\n",
              "          const element = document.querySelector('#df-576e37ad-1b30-464f-8d5a-86eda29f5183');\n",
              "          const dataTable =\n",
              "            await google.colab.kernel.invokeFunction('convertToInteractive',\n",
              "                                                     [key], {});\n",
              "          if (!dataTable) return;\n",
              "\n",
              "          const docLinkHtml = 'Like what you see? Visit the ' +\n",
              "            '<a target=\"_blank\" href=https://colab.research.google.com/notebooks/data_table.ipynb>data table notebook</a>'\n",
              "            + ' to learn more about interactive tables.';\n",
              "          element.innerHTML = '';\n",
              "          dataTable['output_type'] = 'display_data';\n",
              "          await google.colab.output.renderOutput(dataTable, element);\n",
              "          const docLink = document.createElement('div');\n",
              "          docLink.innerHTML = docLinkHtml;\n",
              "          element.appendChild(docLink);\n",
              "        }\n",
              "      </script>\n",
              "    </div>\n",
              "  </div>\n",
              "  "
            ]
          },
          "metadata": {},
          "execution_count": 10
        }
      ]
    },
    {
      "cell_type": "markdown",
      "source": [
        "# 3. 성능 평가"
      ],
      "metadata": {
        "id": "oAyzghoMVxa8"
      }
    },
    {
      "cell_type": "code",
      "source": [
        "# precision@k 계산 함수\n",
        "def precision_k(test_data, recommend_data) : \n",
        "    recommend_list = recommend_data['product_id'].to_list()\n",
        "    common_product = test_data[test_data['product_id'].isin(recommend_list)]\n",
        "\n",
        "    return len(common_product) / len(recommend_list)\n",
        "\n",
        "# recall@k 계산 함수 \n",
        "def recall_k(test_data, recommend_data) : \n",
        "    recommend_list = recommend_data['product_id'].to_list()\n",
        "    common_product = test_data[test_data['product_id'].isin(recommend_list)]\n",
        "\n",
        "    return len(common_product) / len(test_data)"
      ],
      "metadata": {
        "id": "TvuOWb9GfMbD"
      },
      "execution_count": 11,
      "outputs": []
    },
    {
      "cell_type": "code",
      "source": [
        "# 고객 id가 29496인 샘플 데이터로 테스트\n",
        "sample_data = test_data[test_data['customer_id'] == 29496]\n",
        "\n",
        "print(precision_k(sample_data, recomm_data))\n",
        "print(recall_k(sample_data, recomm_data))"
      ],
      "metadata": {
        "colab": {
          "base_uri": "https://localhost:8080/"
        },
        "id": "n5uIVxKGhZHP",
        "outputId": "bf43a818-2b73-474d-ad1b-1c1db13e683d"
      },
      "execution_count": 12,
      "outputs": [
        {
          "output_type": "stream",
          "name": "stdout",
          "text": [
            "0.0\n",
            "0.0\n"
          ]
        }
      ]
    },
    {
      "cell_type": "code",
      "source": [
        "# 모든 고객 id에 대해서 테스트\n",
        "customer_list = test_data['customer_id'].unique()\n",
        "precision_total = 0\n",
        "recall_total = 0\n",
        "\n",
        "for customer_id in customer_list : \n",
        "    sample_data = test_data[test_data['customer_id'] == customer_id]\n",
        "    precision_total += precision_k(sample_data, recomm_data)\n",
        "    recall_total += recall_k(sample_data, recomm_data)\n",
        "\n",
        "print(\"precision :\", precision_total/len(customer_list))\n",
        "print(\"reall :\", recall_total/len(customer_list))"
      ],
      "metadata": {
        "colab": {
          "base_uri": "https://localhost:8080/"
        },
        "id": "oroSV0BKjEFv",
        "outputId": "9db0a264-3828-4644-8b8b-bd3623e13dd9"
      },
      "execution_count": 13,
      "outputs": [
        {
          "output_type": "stream",
          "name": "stdout",
          "text": [
            "precision : 0.00013472549680026923\n",
            "reall : 0.00036301053382020325\n"
          ]
        }
      ]
    }
  ]
}